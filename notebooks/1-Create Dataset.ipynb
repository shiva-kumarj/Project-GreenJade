{
 "cells": [
  {
   "cell_type": "markdown",
   "metadata": {
    "toc": true
   },
   "source": [
    "<h1>Table of Contents<span class=\"tocSkip\"></span></h1>\n",
    "<div class=\"toc\"><ul class=\"toc-item\"><li><span><a href=\"#Get-song-features\" data-toc-modified-id=\"Get-song-features-1\">Get song features</a></span></li></ul></div>"
   ]
  },
  {
   "cell_type": "code",
   "execution_count": 1,
   "metadata": {
    "ExecuteTime": {
     "end_time": "2020-11-27T15:34:05.253942Z",
     "start_time": "2020-11-27T15:34:03.735147Z"
    }
   },
   "outputs": [],
   "source": [
    "import spotipy\n",
    "import spotipy.util as util\n",
    "import os\n",
    "import numpy as np\n",
    "from spotipy.oauth2 import SpotifyOAuth\n",
    "from spotipy.oauth2 import SpotifyClientCredentials\n",
    "import pandas as pd\n",
    "import seaborn as sns\n",
    "import matplotlib.pyplot as plt"
   ]
  },
  {
   "cell_type": "code",
   "execution_count": 2,
   "metadata": {
    "ExecuteTime": {
     "end_time": "2020-11-27T15:34:05.279988Z",
     "start_time": "2020-11-27T15:34:05.253942Z"
    }
   },
   "outputs": [],
   "source": [
    "os.environ['SPOTIPY_CLIENT_ID'] = \"Your CLIENT_ID\"\n",
    "os.environ['SPOTIPY_CLIENT_SECRET'] = \"Your SPOTIPY_CLIENT_SECRET\"\n",
    "os.environ['SPOTIPY_REDIRECT_URI'] = 'http://localhost:7777/callback'"
   ]
  },
  {
   "cell_type": "code",
   "execution_count": 3,
   "metadata": {
    "ExecuteTime": {
     "end_time": "2020-11-27T15:34:05.295614Z",
     "start_time": "2020-11-27T15:34:05.279988Z"
    }
   },
   "outputs": [],
   "source": [
    "auth_manager = SpotifyClientCredentials()\n",
    "scope = \"playlist-read-private, user-library-read\"\n",
    "\n",
    "sp_client = spotipy.Spotify(auth_manager = SpotifyOAuth(scope = scope, username = 'shivakumar'))"
   ]
  },
  {
   "cell_type": "code",
   "execution_count": 5,
   "metadata": {
    "ExecuteTime": {
     "end_time": "2020-11-27T15:34:06.642710Z",
     "start_time": "2020-11-27T15:34:06.618996Z"
    }
   },
   "outputs": [],
   "source": [
    "user = 'spotify'\n",
    "good_id = 'liked-playlist-id'\n",
    "bad_id = 'disliked-playlist-id'\n",
    "discover = 'final-test-playlist'"
   ]
  },
  {
   "cell_type": "code",
   "execution_count": 6,
   "metadata": {
    "ExecuteTime": {
     "end_time": "2020-11-27T15:34:06.872582Z",
     "start_time": "2020-11-27T15:34:06.642710Z"
    },
    "scrolled": true
   },
   "outputs": [
    {
     "data": {
      "text/plain": [
       "dict_keys(['album', 'artists', 'available_markets', 'disc_number', 'duration_ms', 'episode', 'explicit', 'external_ids', 'external_urls', 'href', 'id', 'is_local', 'name', 'popularity', 'preview_url', 'track', 'track_number', 'type', 'uri'])"
      ]
     },
     "execution_count": 6,
     "metadata": {},
     "output_type": "execute_result"
    }
   ],
   "source": [
    "sp_client.user_playlist_tracks(user, good_id)['items'][0]['track'].keys()"
   ]
  },
  {
   "cell_type": "markdown",
   "metadata": {},
   "source": [
    "## Get song features"
   ]
  },
  {
   "cell_type": "code",
   "execution_count": 7,
   "metadata": {
    "ExecuteTime": {
     "end_time": "2020-11-27T15:34:06.888208Z",
     "start_time": "2020-11-27T15:34:06.872582Z"
    }
   },
   "outputs": [],
   "source": [
    "def fetch_playlist_feat(creator, playlist_id):\n",
    "    playlist_features_list = ['artist', 'album', 'track_name', 'track_id', 'popularity', 'danceability',\n",
    "                              'energy', 'key', 'loudness', 'mode', 'speechiness', 'acousticness',\n",
    "                              'instrumentalness', 'liveness', 'valence', 'tempo', 'duration_ms', 'time_signature']\n",
    "    \n",
    "    playlist_df = pd.DataFrame(columns = playlist_features_list)\n",
    "    playlist_features = {}\n",
    "    \n",
    "    i = 0\n",
    "    playlist = []\n",
    "    while True:\n",
    "        if(len(sp_client.user_playlist_tracks(user, playlist_id, offset = i*100)['items']) != 0 ):\n",
    "            playlist.append(sp_client.user_playlist_tracks(user, playlist_id, \n",
    "                                                           offset = i*100)['items'])\n",
    "            i+=1\n",
    "        else:\n",
    "            break\n",
    "    for i in range(len(playlist)):\n",
    "        for track in playlist[i]:\n",
    "            playlist_features['artist'] = track['track']['album']['artists'][0]['name']\n",
    "            playlist_features['album'] = track['track']['album']['name']\n",
    "            playlist_features['track_name'] = track['track']['name']\n",
    "            playlist_features['track_id'] = track['track']['id']\n",
    "            playlist_features['popularity'] = track['track']['popularity']\n",
    "            # Get audio features\n",
    "            audio_features = sp_client.audio_features(playlist_features['track_id'])[0]\n",
    "            for feature in playlist_features_list[5:]:\n",
    "                playlist_features[feature] = audio_features[feature]\n",
    "            #concat the dfs\n",
    "            track_df = pd.DataFrame(playlist_features, index = [0])\n",
    "            playlist_df = pd.concat([playlist_df, track_df], ignore_index = True)\n",
    "    return playlist_df"
   ]
  },
  {
   "cell_type": "code",
   "execution_count": 8,
   "metadata": {
    "ExecuteTime": {
     "end_time": "2020-11-27T15:34:56.214924Z",
     "start_time": "2020-11-27T15:34:06.888208Z"
    },
    "scrolled": false
   },
   "outputs": [],
   "source": [
    "good_df = fetch_playlist_feat(user, good_id)\n",
    "bad_df = fetch_playlist_feat(user, bad_id)\n",
    "#discover_df = fetch_playlist_feat(user, discover)"
   ]
  },
  {
   "cell_type": "code",
   "execution_count": 9,
   "metadata": {
    "ExecuteTime": {
     "end_time": "2020-11-27T15:34:56.236930Z",
     "start_time": "2020-11-27T15:34:56.214924Z"
    }
   },
   "outputs": [],
   "source": [
    "good_df['target'] = 1\n",
    "bad_df['target'] = 0"
   ]
  },
  {
   "cell_type": "code",
   "execution_count": 10,
   "metadata": {
    "ExecuteTime": {
     "end_time": "2020-11-27T15:34:56.252575Z",
     "start_time": "2020-11-27T15:34:56.236930Z"
    }
   },
   "outputs": [],
   "source": [
    "df = pd.concat([good_df, bad_df])"
   ]
  },
  {
   "cell_type": "code",
   "execution_count": 11,
   "metadata": {
    "ExecuteTime": {
     "end_time": "2020-11-27T15:34:56.268246Z",
     "start_time": "2020-11-27T15:34:56.252575Z"
    }
   },
   "outputs": [],
   "source": [
    "df.reset_index(drop = True, inplace = True)"
   ]
  },
  {
   "cell_type": "code",
   "execution_count": 12,
   "metadata": {
    "ExecuteTime": {
     "end_time": "2020-11-27T15:34:56.283821Z",
     "start_time": "2020-11-27T15:34:56.268246Z"
    }
   },
   "outputs": [],
   "source": [
    "np.random.seed(10)\n",
    "df = df.iloc[np.random.permutation(len(df))].reset_index(drop = True)"
   ]
  },
  {
   "cell_type": "code",
   "execution_count": 13,
   "metadata": {
    "ExecuteTime": {
     "end_time": "2020-11-27T15:34:56.315099Z",
     "start_time": "2020-11-27T15:34:56.283821Z"
    },
    "scrolled": false
   },
   "outputs": [
    {
     "data": {
      "text/html": [
       "<div>\n",
       "<style scoped>\n",
       "    .dataframe tbody tr th:only-of-type {\n",
       "        vertical-align: middle;\n",
       "    }\n",
       "\n",
       "    .dataframe tbody tr th {\n",
       "        vertical-align: top;\n",
       "    }\n",
       "\n",
       "    .dataframe thead th {\n",
       "        text-align: right;\n",
       "    }\n",
       "</style>\n",
       "<table border=\"1\" class=\"dataframe\">\n",
       "  <thead>\n",
       "    <tr style=\"text-align: right;\">\n",
       "      <th></th>\n",
       "      <th>artist</th>\n",
       "      <th>album</th>\n",
       "      <th>track_name</th>\n",
       "      <th>track_id</th>\n",
       "      <th>popularity</th>\n",
       "      <th>danceability</th>\n",
       "      <th>energy</th>\n",
       "      <th>key</th>\n",
       "      <th>loudness</th>\n",
       "      <th>mode</th>\n",
       "      <th>speechiness</th>\n",
       "      <th>acousticness</th>\n",
       "      <th>instrumentalness</th>\n",
       "      <th>liveness</th>\n",
       "      <th>valence</th>\n",
       "      <th>tempo</th>\n",
       "      <th>duration_ms</th>\n",
       "      <th>time_signature</th>\n",
       "      <th>target</th>\n",
       "    </tr>\n",
       "  </thead>\n",
       "  <tbody>\n",
       "    <tr>\n",
       "      <th>0</th>\n",
       "      <td>Evol Intent</td>\n",
       "      <td>Amazing Friends</td>\n",
       "      <td>Broken Sword</td>\n",
       "      <td>5YJIHyYOLHhxSNXaEQta4c</td>\n",
       "      <td>0</td>\n",
       "      <td>0.351</td>\n",
       "      <td>0.999</td>\n",
       "      <td>1</td>\n",
       "      <td>-3.208</td>\n",
       "      <td>1</td>\n",
       "      <td>0.0874</td>\n",
       "      <td>0.000253</td>\n",
       "      <td>0.835</td>\n",
       "      <td>0.301</td>\n",
       "      <td>0.340</td>\n",
       "      <td>114.711</td>\n",
       "      <td>361693</td>\n",
       "      <td>5</td>\n",
       "      <td>0</td>\n",
       "    </tr>\n",
       "    <tr>\n",
       "      <th>1</th>\n",
       "      <td>Vishal-Shekhar</td>\n",
       "      <td>I Hate Luv Storys (Original Motion Picture Sou...</td>\n",
       "      <td>Bahara</td>\n",
       "      <td>1gwO79MdYdumgIjxq8eCxB</td>\n",
       "      <td>56</td>\n",
       "      <td>0.456</td>\n",
       "      <td>0.739</td>\n",
       "      <td>5</td>\n",
       "      <td>-6.733</td>\n",
       "      <td>1</td>\n",
       "      <td>0.0402</td>\n",
       "      <td>0.071800</td>\n",
       "      <td>7.24e-06</td>\n",
       "      <td>0.134</td>\n",
       "      <td>0.720</td>\n",
       "      <td>85.773</td>\n",
       "      <td>325707</td>\n",
       "      <td>4</td>\n",
       "      <td>1</td>\n",
       "    </tr>\n",
       "    <tr>\n",
       "      <th>2</th>\n",
       "      <td>Pritam</td>\n",
       "      <td>Chhichhore</td>\n",
       "      <td>Khairiyat (Bonus Track)</td>\n",
       "      <td>3oM90C4SZLYzVZJEZD5EQk</td>\n",
       "      <td>58</td>\n",
       "      <td>0.606</td>\n",
       "      <td>0.654</td>\n",
       "      <td>0</td>\n",
       "      <td>-5.625</td>\n",
       "      <td>0</td>\n",
       "      <td>0.0365</td>\n",
       "      <td>0.484000</td>\n",
       "      <td>1.13e-06</td>\n",
       "      <td>0.152</td>\n",
       "      <td>0.597</td>\n",
       "      <td>124.972</td>\n",
       "      <td>270707</td>\n",
       "      <td>4</td>\n",
       "      <td>1</td>\n",
       "    </tr>\n",
       "    <tr>\n",
       "      <th>3</th>\n",
       "      <td>ILS</td>\n",
       "      <td>Bohemia</td>\n",
       "      <td>Feed The Addiction</td>\n",
       "      <td>23AUyZevDLz3pwkICwIJa0</td>\n",
       "      <td>0</td>\n",
       "      <td>0.585</td>\n",
       "      <td>0.887</td>\n",
       "      <td>1</td>\n",
       "      <td>-6.485</td>\n",
       "      <td>1</td>\n",
       "      <td>0.0422</td>\n",
       "      <td>0.000171</td>\n",
       "      <td>0.813</td>\n",
       "      <td>0.554</td>\n",
       "      <td>0.212</td>\n",
       "      <td>134.884</td>\n",
       "      <td>278280</td>\n",
       "      <td>4</td>\n",
       "      <td>1</td>\n",
       "    </tr>\n",
       "    <tr>\n",
       "      <th>4</th>\n",
       "      <td>Amaal Mallik</td>\n",
       "      <td>M.S.Dhoni - The Untold Story</td>\n",
       "      <td>Phir Kabhi</td>\n",
       "      <td>4jk4CaqBMBbMZhf3PuR1ai</td>\n",
       "      <td>57</td>\n",
       "      <td>0.405</td>\n",
       "      <td>0.665</td>\n",
       "      <td>4</td>\n",
       "      <td>-5.498</td>\n",
       "      <td>1</td>\n",
       "      <td>0.0328</td>\n",
       "      <td>0.614000</td>\n",
       "      <td>0</td>\n",
       "      <td>0.525</td>\n",
       "      <td>0.404</td>\n",
       "      <td>81.921</td>\n",
       "      <td>287422</td>\n",
       "      <td>4</td>\n",
       "      <td>1</td>\n",
       "    </tr>\n",
       "  </tbody>\n",
       "</table>\n",
       "</div>"
      ],
      "text/plain": [
       "           artist                                              album  \\\n",
       "0     Evol Intent                                    Amazing Friends   \n",
       "1  Vishal-Shekhar  I Hate Luv Storys (Original Motion Picture Sou...   \n",
       "2          Pritam                                         Chhichhore   \n",
       "3             ILS                                            Bohemia   \n",
       "4    Amaal Mallik                       M.S.Dhoni - The Untold Story   \n",
       "\n",
       "                track_name                track_id popularity  danceability  \\\n",
       "0             Broken Sword  5YJIHyYOLHhxSNXaEQta4c          0         0.351   \n",
       "1                   Bahara  1gwO79MdYdumgIjxq8eCxB         56         0.456   \n",
       "2  Khairiyat (Bonus Track)  3oM90C4SZLYzVZJEZD5EQk         58         0.606   \n",
       "3       Feed The Addiction  23AUyZevDLz3pwkICwIJa0          0         0.585   \n",
       "4               Phir Kabhi  4jk4CaqBMBbMZhf3PuR1ai         57         0.405   \n",
       "\n",
       "   energy key  loudness mode  speechiness  acousticness instrumentalness  \\\n",
       "0   0.999   1    -3.208    1       0.0874      0.000253            0.835   \n",
       "1   0.739   5    -6.733    1       0.0402      0.071800         7.24e-06   \n",
       "2   0.654   0    -5.625    0       0.0365      0.484000         1.13e-06   \n",
       "3   0.887   1    -6.485    1       0.0422      0.000171            0.813   \n",
       "4   0.665   4    -5.498    1       0.0328      0.614000                0   \n",
       "\n",
       "   liveness  valence    tempo duration_ms time_signature  target  \n",
       "0     0.301    0.340  114.711      361693              5       0  \n",
       "1     0.134    0.720   85.773      325707              4       1  \n",
       "2     0.152    0.597  124.972      270707              4       1  \n",
       "3     0.554    0.212  134.884      278280              4       1  \n",
       "4     0.525    0.404   81.921      287422              4       1  "
      ]
     },
     "execution_count": 13,
     "metadata": {},
     "output_type": "execute_result"
    }
   ],
   "source": [
    "df.head()"
   ]
  },
  {
   "cell_type": "code",
   "execution_count": 15,
   "metadata": {
    "ExecuteTime": {
     "end_time": "2020-11-27T15:35:24.826287Z",
     "start_time": "2020-11-27T15:35:24.810694Z"
    }
   },
   "outputs": [
    {
     "data": {
      "text/plain": [
       "(356, 19)"
      ]
     },
     "execution_count": 15,
     "metadata": {},
     "output_type": "execute_result"
    }
   ],
   "source": [
    "df.shape"
   ]
  },
  {
   "cell_type": "code",
   "execution_count": 14,
   "metadata": {
    "ExecuteTime": {
     "end_time": "2020-11-27T15:34:56.353154Z",
     "start_time": "2020-11-27T15:34:56.315099Z"
    }
   },
   "outputs": [],
   "source": [
    "df.to_csv('../dataset/data.csv', index = False)"
   ]
  }
 ],
 "metadata": {
  "kernelspec": {
   "display_name": "Python 3",
   "language": "python",
   "name": "python3"
  },
  "language_info": {
   "codemirror_mode": {
    "name": "ipython",
    "version": 3
   },
   "file_extension": ".py",
   "mimetype": "text/x-python",
   "name": "python",
   "nbconvert_exporter": "python",
   "pygments_lexer": "ipython3",
   "version": "3.7.6"
  },
  "toc": {
   "base_numbering": 1,
   "nav_menu": {},
   "number_sections": false,
   "sideBar": true,
   "skip_h1_title": false,
   "title_cell": "Table of Contents",
   "title_sidebar": "Contents",
   "toc_cell": true,
   "toc_position": {},
   "toc_section_display": true,
   "toc_window_display": true
  }
 },
 "nbformat": 4,
 "nbformat_minor": 4
}
