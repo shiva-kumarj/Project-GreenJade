{
 "cells": [
  {
   "cell_type": "markdown",
   "metadata": {
    "toc": true
   },
   "source": [
    "<h1>Table of Contents<span class=\"tocSkip\"></span></h1>\n",
    "<div class=\"toc\"><ul class=\"toc-item\"><li><span><a href=\"#Category-Encoding\" data-toc-modified-id=\"Category-Encoding-1\">Category Encoding</a></span></li><li><span><a href=\"#Scaling\" data-toc-modified-id=\"Scaling-2\">Scaling</a></span></li><li><span><a href=\"#load-model-from-pickle-file\" data-toc-modified-id=\"load-model-from-pickle-file-3\">load model from pickle file</a></span></li><li><span><a href=\"#ROC-Curve\" data-toc-modified-id=\"ROC-Curve-4\">ROC Curve</a></span></li></ul></div>"
   ]
  },
  {
   "cell_type": "markdown",
   "metadata": {},
   "source": [
    "This model "
   ]
  },
  {
   "cell_type": "code",
   "execution_count": 1,
   "metadata": {
    "ExecuteTime": {
     "end_time": "2020-11-28T16:23:36.428677Z",
     "start_time": "2020-11-28T16:23:34.557169Z"
    }
   },
   "outputs": [],
   "source": [
    "import pickle\n",
    "import numpy as np\n",
    "import pandas as pd\n",
    "import seaborn as sns\n",
    "import matplotlib.pyplot as plt\n",
    "from sklearn.metrics import roc_curve, roc_auc_score, confusion_matrix\n",
    "from category_encoders import CatBoostEncoder\n",
    "from sklearn.preprocessing import MinMaxScaler\n",
    "from sklearn.metrics import classification_report\n",
    "from sklearn import metrics\n",
    "from matplotlib import style"
   ]
  },
  {
   "cell_type": "code",
   "execution_count": 2,
   "metadata": {
    "ExecuteTime": {
     "end_time": "2020-11-28T16:23:36.444261Z",
     "start_time": "2020-11-28T16:23:36.428677Z"
    }
   },
   "outputs": [],
   "source": [
    "# Most significant columns according to RFE\n",
    "red_cols = ['artist', 'album', 'popularity', 'danceability', 'energy', 'loudness','instrumentalness', 'valence']"
   ]
  },
  {
   "cell_type": "code",
   "execution_count": 3,
   "metadata": {
    "ExecuteTime": {
     "end_time": "2020-11-28T16:23:36.459888Z",
     "start_time": "2020-11-28T16:23:36.444261Z"
    }
   },
   "outputs": [],
   "source": [
    "test = pd.read_csv('../dataset/test.csv')"
   ]
  },
  {
   "cell_type": "code",
   "execution_count": 4,
   "metadata": {
    "ExecuteTime": {
     "end_time": "2020-11-28T16:23:36.475512Z",
     "start_time": "2020-11-28T16:23:36.459888Z"
    }
   },
   "outputs": [],
   "source": [
    "discover = pd.read_csv('../dataset/discover.csv')"
   ]
  },
  {
   "cell_type": "code",
   "execution_count": 5,
   "metadata": {
    "ExecuteTime": {
     "end_time": "2020-11-28T16:23:36.491132Z",
     "start_time": "2020-11-28T16:23:36.475512Z"
    }
   },
   "outputs": [],
   "source": [
    "test.drop('Unnamed: 0', axis = 1, inplace = True)"
   ]
  },
  {
   "cell_type": "code",
   "execution_count": 6,
   "metadata": {
    "ExecuteTime": {
     "end_time": "2020-11-28T16:23:36.528924Z",
     "start_time": "2020-11-28T16:23:36.491132Z"
    }
   },
   "outputs": [
    {
     "data": {
      "text/html": [
       "<div>\n",
       "<style scoped>\n",
       "    .dataframe tbody tr th:only-of-type {\n",
       "        vertical-align: middle;\n",
       "    }\n",
       "\n",
       "    .dataframe tbody tr th {\n",
       "        vertical-align: top;\n",
       "    }\n",
       "\n",
       "    .dataframe thead th {\n",
       "        text-align: right;\n",
       "    }\n",
       "</style>\n",
       "<table border=\"1\" class=\"dataframe\">\n",
       "  <thead>\n",
       "    <tr style=\"text-align: right;\">\n",
       "      <th></th>\n",
       "      <th>artist</th>\n",
       "      <th>album</th>\n",
       "      <th>track_name</th>\n",
       "      <th>track_id</th>\n",
       "      <th>popularity</th>\n",
       "      <th>danceability</th>\n",
       "      <th>energy</th>\n",
       "      <th>key</th>\n",
       "      <th>loudness</th>\n",
       "      <th>mode</th>\n",
       "      <th>speechiness</th>\n",
       "      <th>acousticness</th>\n",
       "      <th>instrumentalness</th>\n",
       "      <th>liveness</th>\n",
       "      <th>valence</th>\n",
       "      <th>tempo</th>\n",
       "      <th>duration_ms</th>\n",
       "      <th>time_signature</th>\n",
       "      <th>target</th>\n",
       "    </tr>\n",
       "  </thead>\n",
       "  <tbody>\n",
       "    <tr>\n",
       "      <th>0</th>\n",
       "      <td>Arijit Singh</td>\n",
       "      <td>Arijit Singh Broken Strings</td>\n",
       "      <td>Milne Hai Mujhse Aayi (From \"Aashiqui 2\")</td>\n",
       "      <td>24b9eObMccIrDSs3NvdrRd</td>\n",
       "      <td>45</td>\n",
       "      <td>0.515</td>\n",
       "      <td>0.707</td>\n",
       "      <td>11</td>\n",
       "      <td>-5.467</td>\n",
       "      <td>0</td>\n",
       "      <td>0.0426</td>\n",
       "      <td>0.0357</td>\n",
       "      <td>0.000000</td>\n",
       "      <td>0.1340</td>\n",
       "      <td>0.304</td>\n",
       "      <td>143.752</td>\n",
       "      <td>295798</td>\n",
       "      <td>4</td>\n",
       "      <td>1</td>\n",
       "    </tr>\n",
       "    <tr>\n",
       "      <th>1</th>\n",
       "      <td>Skillet</td>\n",
       "      <td>Awake</td>\n",
       "      <td>Monster</td>\n",
       "      <td>2UREu1Y8CO4jXkbvqAtP7g</td>\n",
       "      <td>77</td>\n",
       "      <td>0.640</td>\n",
       "      <td>0.957</td>\n",
       "      <td>8</td>\n",
       "      <td>-2.336</td>\n",
       "      <td>1</td>\n",
       "      <td>0.0741</td>\n",
       "      <td>0.0431</td>\n",
       "      <td>0.000000</td>\n",
       "      <td>0.0789</td>\n",
       "      <td>0.692</td>\n",
       "      <td>134.992</td>\n",
       "      <td>178013</td>\n",
       "      <td>4</td>\n",
       "      <td>1</td>\n",
       "    </tr>\n",
       "    <tr>\n",
       "      <th>2</th>\n",
       "      <td>Jeet Gannguli</td>\n",
       "      <td>Musical Bond: Jeet Gannguli &amp; Arijit Singh</td>\n",
       "      <td>Khamoshiyan (From \"Khamoshiyan\")</td>\n",
       "      <td>50mnqGStE7b577DH2k2ltd</td>\n",
       "      <td>41</td>\n",
       "      <td>0.527</td>\n",
       "      <td>0.521</td>\n",
       "      <td>2</td>\n",
       "      <td>-6.837</td>\n",
       "      <td>0</td>\n",
       "      <td>0.0272</td>\n",
       "      <td>0.6310</td>\n",
       "      <td>0.000000</td>\n",
       "      <td>0.1580</td>\n",
       "      <td>0.266</td>\n",
       "      <td>143.892</td>\n",
       "      <td>335710</td>\n",
       "      <td>3</td>\n",
       "      <td>1</td>\n",
       "    </tr>\n",
       "    <tr>\n",
       "      <th>3</th>\n",
       "      <td>Pritam</td>\n",
       "      <td>Jannat 2 (Original Motion Picture Soundtrack)</td>\n",
       "      <td>Jannatein Kahan</td>\n",
       "      <td>62wnQra2VgCUyHO3BUIAcr</td>\n",
       "      <td>45</td>\n",
       "      <td>0.545</td>\n",
       "      <td>0.770</td>\n",
       "      <td>0</td>\n",
       "      <td>-6.102</td>\n",
       "      <td>1</td>\n",
       "      <td>0.0655</td>\n",
       "      <td>0.3080</td>\n",
       "      <td>0.000028</td>\n",
       "      <td>0.1670</td>\n",
       "      <td>0.696</td>\n",
       "      <td>159.975</td>\n",
       "      <td>228093</td>\n",
       "      <td>4</td>\n",
       "      <td>0</td>\n",
       "    </tr>\n",
       "    <tr>\n",
       "      <th>4</th>\n",
       "      <td>Armaan Malik</td>\n",
       "      <td>Main Rahoon Ya Na Rahoon</td>\n",
       "      <td>Main Rahoon Ya Na Rahoon</td>\n",
       "      <td>6f3ANRNQ8nCiPZ6VqXqq93</td>\n",
       "      <td>60</td>\n",
       "      <td>0.550</td>\n",
       "      <td>0.488</td>\n",
       "      <td>6</td>\n",
       "      <td>-8.059</td>\n",
       "      <td>1</td>\n",
       "      <td>0.0284</td>\n",
       "      <td>0.7180</td>\n",
       "      <td>0.000118</td>\n",
       "      <td>0.1260</td>\n",
       "      <td>0.301</td>\n",
       "      <td>136.025</td>\n",
       "      <td>309458</td>\n",
       "      <td>3</td>\n",
       "      <td>1</td>\n",
       "    </tr>\n",
       "  </tbody>\n",
       "</table>\n",
       "</div>"
      ],
      "text/plain": [
       "          artist                                          album  \\\n",
       "0   Arijit Singh                    Arijit Singh Broken Strings   \n",
       "1        Skillet                                          Awake   \n",
       "2  Jeet Gannguli     Musical Bond: Jeet Gannguli & Arijit Singh   \n",
       "3         Pritam  Jannat 2 (Original Motion Picture Soundtrack)   \n",
       "4   Armaan Malik                       Main Rahoon Ya Na Rahoon   \n",
       "\n",
       "                                  track_name                track_id  \\\n",
       "0  Milne Hai Mujhse Aayi (From \"Aashiqui 2\")  24b9eObMccIrDSs3NvdrRd   \n",
       "1                                    Monster  2UREu1Y8CO4jXkbvqAtP7g   \n",
       "2           Khamoshiyan (From \"Khamoshiyan\")  50mnqGStE7b577DH2k2ltd   \n",
       "3                            Jannatein Kahan  62wnQra2VgCUyHO3BUIAcr   \n",
       "4                   Main Rahoon Ya Na Rahoon  6f3ANRNQ8nCiPZ6VqXqq93   \n",
       "\n",
       "   popularity  danceability  energy  key  loudness  mode  speechiness  \\\n",
       "0          45         0.515   0.707   11    -5.467     0       0.0426   \n",
       "1          77         0.640   0.957    8    -2.336     1       0.0741   \n",
       "2          41         0.527   0.521    2    -6.837     0       0.0272   \n",
       "3          45         0.545   0.770    0    -6.102     1       0.0655   \n",
       "4          60         0.550   0.488    6    -8.059     1       0.0284   \n",
       "\n",
       "   acousticness  instrumentalness  liveness  valence    tempo  duration_ms  \\\n",
       "0        0.0357          0.000000    0.1340    0.304  143.752       295798   \n",
       "1        0.0431          0.000000    0.0789    0.692  134.992       178013   \n",
       "2        0.6310          0.000000    0.1580    0.266  143.892       335710   \n",
       "3        0.3080          0.000028    0.1670    0.696  159.975       228093   \n",
       "4        0.7180          0.000118    0.1260    0.301  136.025       309458   \n",
       "\n",
       "   time_signature  target  \n",
       "0               4       1  \n",
       "1               4       1  \n",
       "2               3       1  \n",
       "3               4       0  \n",
       "4               3       1  "
      ]
     },
     "execution_count": 6,
     "metadata": {},
     "output_type": "execute_result"
    }
   ],
   "source": [
    "test.head()"
   ]
  },
  {
   "cell_type": "code",
   "execution_count": 7,
   "metadata": {
    "ExecuteTime": {
     "end_time": "2020-11-28T16:23:36.544546Z",
     "start_time": "2020-11-28T16:23:36.528924Z"
    }
   },
   "outputs": [],
   "source": [
    "y = test['target']\n",
    "test.drop('target', axis = 1, inplace = True)"
   ]
  },
  {
   "cell_type": "code",
   "execution_count": 8,
   "metadata": {
    "ExecuteTime": {
     "end_time": "2020-11-28T16:23:36.560174Z",
     "start_time": "2020-11-28T16:23:36.544546Z"
    }
   },
   "outputs": [],
   "source": [
    "test.drop(['track_name', 'track_id'], axis = 1, inplace = True)"
   ]
  },
  {
   "cell_type": "markdown",
   "metadata": {},
   "source": [
    "### Category Encoding"
   ]
  },
  {
   "cell_type": "code",
   "execution_count": 9,
   "metadata": {
    "ExecuteTime": {
     "end_time": "2020-11-28T16:23:36.629239Z",
     "start_time": "2020-11-28T16:23:36.560174Z"
    }
   },
   "outputs": [
    {
     "name": "stderr",
     "output_type": "stream",
     "text": [
      "C:\\Users\\blahb\\anaconda3\\lib\\site-packages\\category_encoders\\utils.py:21: FutureWarning: is_categorical is deprecated and will be removed in a future version.  Use is_categorical_dtype instead\n",
      "  elif pd.api.types.is_categorical(cols):\n"
     ]
    }
   ],
   "source": [
    "cbe = CatBoostEncoder(cols=['artist', 'album'])\n",
    "cbe.fit(test[red_cols], y)\n",
    "X_test = cbe.transform(test[red_cols])"
   ]
  },
  {
   "cell_type": "markdown",
   "metadata": {},
   "source": [
    "### Scaling"
   ]
  },
  {
   "cell_type": "code",
   "execution_count": 10,
   "metadata": {
    "ExecuteTime": {
     "end_time": "2020-11-28T16:23:36.644868Z",
     "start_time": "2020-11-28T16:23:36.629239Z"
    }
   },
   "outputs": [],
   "source": [
    "scaler = MinMaxScaler().fit(X_test)\n",
    "X_test = scaler.transform(X_test)"
   ]
  },
  {
   "cell_type": "markdown",
   "metadata": {},
   "source": [
    "### load model from pickle file"
   ]
  },
  {
   "cell_type": "code",
   "execution_count": 11,
   "metadata": {
    "ExecuteTime": {
     "end_time": "2020-11-28T16:23:36.807660Z",
     "start_time": "2020-11-28T16:23:36.644868Z"
    }
   },
   "outputs": [],
   "source": [
    "rf_model = pickle.load(open('../saved_models/final_rf.pkl', 'rb'))"
   ]
  },
  {
   "cell_type": "code",
   "execution_count": 12,
   "metadata": {
    "ExecuteTime": {
     "end_time": "2020-11-28T16:23:36.829818Z",
     "start_time": "2020-11-28T16:23:36.807660Z"
    }
   },
   "outputs": [
    {
     "name": "stdout",
     "output_type": "stream",
     "text": [
      "              precision    recall  f1-score   support\n",
      "\n",
      "           0       0.56      0.75      0.64        12\n",
      "           1       0.89      0.78      0.83        32\n",
      "\n",
      "    accuracy                           0.77        44\n",
      "   macro avg       0.73      0.77      0.74        44\n",
      "weighted avg       0.80      0.77      0.78        44\n",
      "\n"
     ]
    }
   ],
   "source": [
    "classes = rf_model.predict(X_test)\n",
    "print(classification_report(classes, y))"
   ]
  },
  {
   "cell_type": "code",
   "execution_count": 13,
   "metadata": {
    "ExecuteTime": {
     "end_time": "2020-11-28T16:23:36.845440Z",
     "start_time": "2020-11-28T16:23:36.829818Z"
    }
   },
   "outputs": [],
   "source": [
    "test['prediction'] = classes\n",
    "test['true'] = y"
   ]
  },
  {
   "cell_type": "code",
   "execution_count": 14,
   "metadata": {
    "ExecuteTime": {
     "end_time": "2020-11-28T16:23:36.876697Z",
     "start_time": "2020-11-28T16:23:36.845440Z"
    }
   },
   "outputs": [
    {
     "data": {
      "text/html": [
       "<div>\n",
       "<style scoped>\n",
       "    .dataframe tbody tr th:only-of-type {\n",
       "        vertical-align: middle;\n",
       "    }\n",
       "\n",
       "    .dataframe tbody tr th {\n",
       "        vertical-align: top;\n",
       "    }\n",
       "\n",
       "    .dataframe thead th {\n",
       "        text-align: right;\n",
       "    }\n",
       "</style>\n",
       "<table border=\"1\" class=\"dataframe\">\n",
       "  <thead>\n",
       "    <tr style=\"text-align: right;\">\n",
       "      <th></th>\n",
       "      <th>artist</th>\n",
       "      <th>album</th>\n",
       "      <th>popularity</th>\n",
       "      <th>danceability</th>\n",
       "      <th>energy</th>\n",
       "      <th>key</th>\n",
       "      <th>loudness</th>\n",
       "      <th>mode</th>\n",
       "      <th>speechiness</th>\n",
       "      <th>acousticness</th>\n",
       "      <th>instrumentalness</th>\n",
       "      <th>liveness</th>\n",
       "      <th>valence</th>\n",
       "      <th>tempo</th>\n",
       "      <th>duration_ms</th>\n",
       "      <th>time_signature</th>\n",
       "      <th>prediction</th>\n",
       "      <th>true</th>\n",
       "    </tr>\n",
       "  </thead>\n",
       "  <tbody>\n",
       "    <tr>\n",
       "      <th>0</th>\n",
       "      <td>Arijit Singh</td>\n",
       "      <td>Arijit Singh Broken Strings</td>\n",
       "      <td>45</td>\n",
       "      <td>0.515</td>\n",
       "      <td>0.707</td>\n",
       "      <td>11</td>\n",
       "      <td>-5.467</td>\n",
       "      <td>0</td>\n",
       "      <td>0.0426</td>\n",
       "      <td>0.0357</td>\n",
       "      <td>0.000000</td>\n",
       "      <td>0.1340</td>\n",
       "      <td>0.304</td>\n",
       "      <td>143.752</td>\n",
       "      <td>295798</td>\n",
       "      <td>4</td>\n",
       "      <td>1</td>\n",
       "      <td>1</td>\n",
       "    </tr>\n",
       "    <tr>\n",
       "      <th>1</th>\n",
       "      <td>Skillet</td>\n",
       "      <td>Awake</td>\n",
       "      <td>77</td>\n",
       "      <td>0.640</td>\n",
       "      <td>0.957</td>\n",
       "      <td>8</td>\n",
       "      <td>-2.336</td>\n",
       "      <td>1</td>\n",
       "      <td>0.0741</td>\n",
       "      <td>0.0431</td>\n",
       "      <td>0.000000</td>\n",
       "      <td>0.0789</td>\n",
       "      <td>0.692</td>\n",
       "      <td>134.992</td>\n",
       "      <td>178013</td>\n",
       "      <td>4</td>\n",
       "      <td>1</td>\n",
       "      <td>1</td>\n",
       "    </tr>\n",
       "    <tr>\n",
       "      <th>2</th>\n",
       "      <td>Jeet Gannguli</td>\n",
       "      <td>Musical Bond: Jeet Gannguli &amp; Arijit Singh</td>\n",
       "      <td>41</td>\n",
       "      <td>0.527</td>\n",
       "      <td>0.521</td>\n",
       "      <td>2</td>\n",
       "      <td>-6.837</td>\n",
       "      <td>0</td>\n",
       "      <td>0.0272</td>\n",
       "      <td>0.6310</td>\n",
       "      <td>0.000000</td>\n",
       "      <td>0.1580</td>\n",
       "      <td>0.266</td>\n",
       "      <td>143.892</td>\n",
       "      <td>335710</td>\n",
       "      <td>3</td>\n",
       "      <td>1</td>\n",
       "      <td>1</td>\n",
       "    </tr>\n",
       "    <tr>\n",
       "      <th>3</th>\n",
       "      <td>Pritam</td>\n",
       "      <td>Jannat 2 (Original Motion Picture Soundtrack)</td>\n",
       "      <td>45</td>\n",
       "      <td>0.545</td>\n",
       "      <td>0.770</td>\n",
       "      <td>0</td>\n",
       "      <td>-6.102</td>\n",
       "      <td>1</td>\n",
       "      <td>0.0655</td>\n",
       "      <td>0.3080</td>\n",
       "      <td>0.000028</td>\n",
       "      <td>0.1670</td>\n",
       "      <td>0.696</td>\n",
       "      <td>159.975</td>\n",
       "      <td>228093</td>\n",
       "      <td>4</td>\n",
       "      <td>0</td>\n",
       "      <td>0</td>\n",
       "    </tr>\n",
       "    <tr>\n",
       "      <th>4</th>\n",
       "      <td>Armaan Malik</td>\n",
       "      <td>Main Rahoon Ya Na Rahoon</td>\n",
       "      <td>60</td>\n",
       "      <td>0.550</td>\n",
       "      <td>0.488</td>\n",
       "      <td>6</td>\n",
       "      <td>-8.059</td>\n",
       "      <td>1</td>\n",
       "      <td>0.0284</td>\n",
       "      <td>0.7180</td>\n",
       "      <td>0.000118</td>\n",
       "      <td>0.1260</td>\n",
       "      <td>0.301</td>\n",
       "      <td>136.025</td>\n",
       "      <td>309458</td>\n",
       "      <td>3</td>\n",
       "      <td>1</td>\n",
       "      <td>1</td>\n",
       "    </tr>\n",
       "  </tbody>\n",
       "</table>\n",
       "</div>"
      ],
      "text/plain": [
       "          artist                                          album  popularity  \\\n",
       "0   Arijit Singh                    Arijit Singh Broken Strings          45   \n",
       "1        Skillet                                          Awake          77   \n",
       "2  Jeet Gannguli     Musical Bond: Jeet Gannguli & Arijit Singh          41   \n",
       "3         Pritam  Jannat 2 (Original Motion Picture Soundtrack)          45   \n",
       "4   Armaan Malik                       Main Rahoon Ya Na Rahoon          60   \n",
       "\n",
       "   danceability  energy  key  loudness  mode  speechiness  acousticness  \\\n",
       "0         0.515   0.707   11    -5.467     0       0.0426        0.0357   \n",
       "1         0.640   0.957    8    -2.336     1       0.0741        0.0431   \n",
       "2         0.527   0.521    2    -6.837     0       0.0272        0.6310   \n",
       "3         0.545   0.770    0    -6.102     1       0.0655        0.3080   \n",
       "4         0.550   0.488    6    -8.059     1       0.0284        0.7180   \n",
       "\n",
       "   instrumentalness  liveness  valence    tempo  duration_ms  time_signature  \\\n",
       "0          0.000000    0.1340    0.304  143.752       295798               4   \n",
       "1          0.000000    0.0789    0.692  134.992       178013               4   \n",
       "2          0.000000    0.1580    0.266  143.892       335710               3   \n",
       "3          0.000028    0.1670    0.696  159.975       228093               4   \n",
       "4          0.000118    0.1260    0.301  136.025       309458               3   \n",
       "\n",
       "   prediction  true  \n",
       "0           1     1  \n",
       "1           1     1  \n",
       "2           1     1  \n",
       "3           0     0  \n",
       "4           1     1  "
      ]
     },
     "execution_count": 14,
     "metadata": {},
     "output_type": "execute_result"
    }
   ],
   "source": [
    "test.head()"
   ]
  },
  {
   "cell_type": "code",
   "execution_count": 15,
   "metadata": {
    "ExecuteTime": {
     "end_time": "2020-11-28T16:23:36.892321Z",
     "start_time": "2020-11-28T16:23:36.876697Z"
    }
   },
   "outputs": [
    {
     "name": "stdout",
     "output_type": "stream",
     "text": [
      "Recall: 0.89\n",
      "Precision: 0.78\n"
     ]
    }
   ],
   "source": [
    "tn, fp, fn, tp = confusion_matrix(test['true'], test['prediction']).ravel()\n",
    "recall = tp/(tp+fn)\n",
    "precision = tp/(tp+fp)\n",
    "print(\"Recall:\", round(recall, 2))\n",
    "print(\"Precision:\", round(precision, 2))"
   ]
  },
  {
   "cell_type": "markdown",
   "metadata": {},
   "source": [
    "### ROC Curve"
   ]
  },
  {
   "cell_type": "code",
   "execution_count": 17,
   "metadata": {
    "ExecuteTime": {
     "end_time": "2020-11-28T16:23:46.783193Z",
     "start_time": "2020-11-28T16:23:46.549840Z"
    }
   },
   "outputs": [
    {
     "data": {
      "image/png": "[encoded data removed]",
      "text/plain": [
       "<Figure size 720x576 with 1 Axes>"
      ]
     },
     "metadata": {},
     "output_type": "display_data"
    }
   ],
   "source": [
    "probs = rf_model.predict_proba(X_test)\n",
    "preds = probs[:,1]\n",
    "fpr, tpr, threshold = roc_curve(y, preds)\n",
    "roc_auc = metrics.auc(fpr, tpr)\n",
    "\n",
    "plt.figure(figsize = (10, 8))\n",
    "plt.plot(fpr, tpr, label='RandomForestClassifier (area = %0.2f)' % roc_auc)\n",
    "plt.plot([0, 1], [0, 1],'r--')\n",
    "plt.xlabel('False Positive Rate')\n",
    "plt.ylabel('True Positive Rate')\n",
    "plt.title('Receiver operating characteristic')\n",
    "plt.legend(loc=\"lower right\")\n",
    "style.use(\"ggplot\")\n",
    "plt.savefig('14.png')\n",
    "plt.show()"
   ]
  },
  {
   "cell_type": "code",
   "execution_count": null,
   "metadata": {},
   "outputs": [],
   "source": []
  }
 ],
 "metadata": {
  "kernelspec": {
   "display_name": "Python 3",
   "language": "python",
   "name": "python3"
  },
  "language_info": {
   "codemirror_mode": {
    "name": "ipython",
    "version": 3
   },
   "file_extension": ".py",
   "mimetype": "text/x-python",
   "name": "python",
   "nbconvert_exporter": "python",
   "pygments_lexer": "ipython3",
   "version": "3.7.6"
  },
  "toc": {
   "base_numbering": 1,
   "nav_menu": {},
   "number_sections": false,
   "sideBar": true,
   "skip_h1_title": false,
   "title_cell": "Table of Contents",
   "title_sidebar": "Contents",
   "toc_cell": true,
   "toc_position": {},
   "toc_section_display": true,
   "toc_window_display": true
  }
 },
 "nbformat": 4,
 "nbformat_minor": 4
}
