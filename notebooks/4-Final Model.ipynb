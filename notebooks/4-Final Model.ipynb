{
 "cells": [
  {
   "cell_type": "markdown",
   "metadata": {
    "toc": true
   },
   "source": [
    "<h1>Table of Contents<span class=\"tocSkip\"></span></h1>\n",
    "<div class=\"toc\"><ul class=\"toc-item\"><li><span><a href=\"#Categorical-Encoding\" data-toc-modified-id=\"Categorical-Encoding-1\">Categorical Encoding</a></span></li><li><span><a href=\"#Feature-Scaling\" data-toc-modified-id=\"Feature-Scaling-2\">Feature Scaling</a></span></li><li><span><a href=\"#Model\" data-toc-modified-id=\"Model-3\">Model</a></span></li><li><span><a href=\"#Recursive-Feature-Elimination\" data-toc-modified-id=\"Recursive-Feature-Elimination-4\">Recursive Feature Elimination</a></span></li><li><span><a href=\"#Model-perf-numbers\" data-toc-modified-id=\"Model-perf-numbers-5\">Model perf numbers</a></span></li></ul></div>"
   ]
  },
  {
   "cell_type": "code",
   "execution_count": 1,
   "metadata": {
    "ExecuteTime": {
     "end_time": "2020-11-28T16:07:54.173685Z",
     "start_time": "2020-11-28T16:07:52.032098Z"
    }
   },
   "outputs": [],
   "source": [
    "import pandas as pd\n",
    "import numpy as np\n",
    "import matplotlib.pyplot as plt\n",
    "import seaborn as sns\n",
    "import pickle\n",
    "from category_encoders import CatBoostEncoder\n",
    "from sklearn.preprocessing import MinMaxScaler\n",
    "from sklearn.metrics import plot_roc_curve\n",
    "from sklearn.metrics import plot_precision_recall_curve\n",
    "from sklearn.metrics import classification_report\n",
    "from sklearn.ensemble import RandomForestClassifier\n",
    "from sklearn import metrics\n",
    "from matplotlib import style\n",
    "from sklearn.metrics import roc_curve, auc"
   ]
  },
  {
   "cell_type": "code",
   "execution_count": 2,
   "metadata": {
    "ExecuteTime": {
     "end_time": "2020-11-28T16:07:54.192854Z",
     "start_time": "2020-11-28T16:07:54.177211Z"
    }
   },
   "outputs": [],
   "source": [
    "df = pd.read_csv('../dataset/data.csv')"
   ]
  },
  {
   "cell_type": "code",
   "execution_count": 3,
   "metadata": {
    "ExecuteTime": {
     "end_time": "2020-11-28T16:07:54.208476Z",
     "start_time": "2020-11-28T16:07:54.192854Z"
    }
   },
   "outputs": [],
   "source": [
    "y = df['target']\n",
    "df.drop('target', axis = 1, inplace = True)"
   ]
  },
  {
   "cell_type": "code",
   "execution_count": 4,
   "metadata": {
    "ExecuteTime": {
     "end_time": "2020-11-28T16:07:54.238135Z",
     "start_time": "2020-11-28T16:07:54.208476Z"
    }
   },
   "outputs": [],
   "source": [
    "perm = np.random.permutation(len(df)) \n",
    "train = df.iloc[perm].reset_index(drop=True) \n",
    "y = y.iloc[perm].reset_index(drop=True)"
   ]
  },
  {
   "cell_type": "code",
   "execution_count": 5,
   "metadata": {
    "ExecuteTime": {
     "end_time": "2020-11-28T16:07:54.253754Z",
     "start_time": "2020-11-28T16:07:54.238135Z"
    }
   },
   "outputs": [],
   "source": [
    "train.drop(['track_name', 'track_id'], axis = 1, inplace = True)"
   ]
  },
  {
   "cell_type": "code",
   "execution_count": 6,
   "metadata": {
    "ExecuteTime": {
     "end_time": "2020-11-28T16:07:54.285006Z",
     "start_time": "2020-11-28T16:07:54.253754Z"
    }
   },
   "outputs": [
    {
     "data": {
      "text/html": [
       "<div>\n",
       "<style scoped>\n",
       "    .dataframe tbody tr th:only-of-type {\n",
       "        vertical-align: middle;\n",
       "    }\n",
       "\n",
       "    .dataframe tbody tr th {\n",
       "        vertical-align: top;\n",
       "    }\n",
       "\n",
       "    .dataframe thead th {\n",
       "        text-align: right;\n",
       "    }\n",
       "</style>\n",
       "<table border=\"1\" class=\"dataframe\">\n",
       "  <thead>\n",
       "    <tr style=\"text-align: right;\">\n",
       "      <th></th>\n",
       "      <th>artist</th>\n",
       "      <th>album</th>\n",
       "      <th>popularity</th>\n",
       "      <th>danceability</th>\n",
       "      <th>energy</th>\n",
       "      <th>key</th>\n",
       "      <th>loudness</th>\n",
       "      <th>mode</th>\n",
       "      <th>speechiness</th>\n",
       "      <th>acousticness</th>\n",
       "      <th>instrumentalness</th>\n",
       "      <th>liveness</th>\n",
       "      <th>valence</th>\n",
       "      <th>tempo</th>\n",
       "      <th>duration_ms</th>\n",
       "      <th>time_signature</th>\n",
       "    </tr>\n",
       "  </thead>\n",
       "  <tbody>\n",
       "    <tr>\n",
       "      <th>0</th>\n",
       "      <td>Shankar-Ehsaan-Loy</td>\n",
       "      <td>Zindagi Na Milegi Dobara</td>\n",
       "      <td>57</td>\n",
       "      <td>0.517</td>\n",
       "      <td>0.565</td>\n",
       "      <td>9</td>\n",
       "      <td>-10.184</td>\n",
       "      <td>1</td>\n",
       "      <td>0.0441</td>\n",
       "      <td>0.7210</td>\n",
       "      <td>0.006890</td>\n",
       "      <td>0.0997</td>\n",
       "      <td>0.690</td>\n",
       "      <td>169.952</td>\n",
       "      <td>251704</td>\n",
       "      <td>4</td>\n",
       "    </tr>\n",
       "    <tr>\n",
       "      <th>1</th>\n",
       "      <td>Yo Yo Honey Singh</td>\n",
       "      <td>Yo Yo Honey Singh Is Back</td>\n",
       "      <td>47</td>\n",
       "      <td>0.663</td>\n",
       "      <td>0.938</td>\n",
       "      <td>0</td>\n",
       "      <td>-2.894</td>\n",
       "      <td>0</td>\n",
       "      <td>0.0335</td>\n",
       "      <td>0.0102</td>\n",
       "      <td>0.000009</td>\n",
       "      <td>0.7500</td>\n",
       "      <td>0.551</td>\n",
       "      <td>127.988</td>\n",
       "      <td>243206</td>\n",
       "      <td>4</td>\n",
       "    </tr>\n",
       "    <tr>\n",
       "      <th>2</th>\n",
       "      <td>The Flight</td>\n",
       "      <td>Assassin's Creed Odyssey (Original Game Soundt...</td>\n",
       "      <td>29</td>\n",
       "      <td>0.258</td>\n",
       "      <td>0.113</td>\n",
       "      <td>2</td>\n",
       "      <td>-14.494</td>\n",
       "      <td>1</td>\n",
       "      <td>0.0377</td>\n",
       "      <td>0.8940</td>\n",
       "      <td>0.405000</td>\n",
       "      <td>0.1180</td>\n",
       "      <td>0.106</td>\n",
       "      <td>95.984</td>\n",
       "      <td>94689</td>\n",
       "      <td>3</td>\n",
       "    </tr>\n",
       "    <tr>\n",
       "      <th>3</th>\n",
       "      <td>Krsna Solo</td>\n",
       "      <td>Tanu Weds Manu</td>\n",
       "      <td>64</td>\n",
       "      <td>0.726</td>\n",
       "      <td>0.994</td>\n",
       "      <td>5</td>\n",
       "      <td>-2.433</td>\n",
       "      <td>0</td>\n",
       "      <td>0.0543</td>\n",
       "      <td>0.0210</td>\n",
       "      <td>0.010800</td>\n",
       "      <td>0.2220</td>\n",
       "      <td>0.779</td>\n",
       "      <td>129.989</td>\n",
       "      <td>264900</td>\n",
       "      <td>4</td>\n",
       "    </tr>\n",
       "    <tr>\n",
       "      <th>4</th>\n",
       "      <td>Various Artists</td>\n",
       "      <td>Karwaan</td>\n",
       "      <td>57</td>\n",
       "      <td>0.693</td>\n",
       "      <td>0.518</td>\n",
       "      <td>1</td>\n",
       "      <td>-9.146</td>\n",
       "      <td>1</td>\n",
       "      <td>0.0282</td>\n",
       "      <td>0.6530</td>\n",
       "      <td>0.531000</td>\n",
       "      <td>0.1380</td>\n",
       "      <td>0.374</td>\n",
       "      <td>128.041</td>\n",
       "      <td>266042</td>\n",
       "      <td>4</td>\n",
       "    </tr>\n",
       "  </tbody>\n",
       "</table>\n",
       "</div>"
      ],
      "text/plain": [
       "               artist                                              album  \\\n",
       "0  Shankar-Ehsaan-Loy                           Zindagi Na Milegi Dobara   \n",
       "1   Yo Yo Honey Singh                          Yo Yo Honey Singh Is Back   \n",
       "2          The Flight  Assassin's Creed Odyssey (Original Game Soundt...   \n",
       "3          Krsna Solo                                     Tanu Weds Manu   \n",
       "4     Various Artists                                            Karwaan   \n",
       "\n",
       "   popularity  danceability  energy  key  loudness  mode  speechiness  \\\n",
       "0          57         0.517   0.565    9   -10.184     1       0.0441   \n",
       "1          47         0.663   0.938    0    -2.894     0       0.0335   \n",
       "2          29         0.258   0.113    2   -14.494     1       0.0377   \n",
       "3          64         0.726   0.994    5    -2.433     0       0.0543   \n",
       "4          57         0.693   0.518    1    -9.146     1       0.0282   \n",
       "\n",
       "   acousticness  instrumentalness  liveness  valence    tempo  duration_ms  \\\n",
       "0        0.7210          0.006890    0.0997    0.690  169.952       251704   \n",
       "1        0.0102          0.000009    0.7500    0.551  127.988       243206   \n",
       "2        0.8940          0.405000    0.1180    0.106   95.984        94689   \n",
       "3        0.0210          0.010800    0.2220    0.779  129.989       264900   \n",
       "4        0.6530          0.531000    0.1380    0.374  128.041       266042   \n",
       "\n",
       "   time_signature  \n",
       "0               4  \n",
       "1               4  \n",
       "2               3  \n",
       "3               4  \n",
       "4               4  "
      ]
     },
     "execution_count": 6,
     "metadata": {},
     "output_type": "execute_result"
    }
   ],
   "source": [
    "train.head()"
   ]
  },
  {
   "cell_type": "markdown",
   "metadata": {},
   "source": [
    "### Categorical Encoding"
   ]
  },
  {
   "cell_type": "code",
   "execution_count": 7,
   "metadata": {
    "ExecuteTime": {
     "end_time": "2020-11-28T16:07:54.354042Z",
     "start_time": "2020-11-28T16:07:54.285006Z"
    },
    "scrolled": true
   },
   "outputs": [
    {
     "name": "stderr",
     "output_type": "stream",
     "text": [
      "C:\\Users\\blahb\\anaconda3\\lib\\site-packages\\category_encoders\\utils.py:21: FutureWarning: is_categorical is deprecated and will be removed in a future version.  Use is_categorical_dtype instead\n",
      "  elif pd.api.types.is_categorical(cols):\n"
     ]
    }
   ],
   "source": [
    "cbe = CatBoostEncoder(cols = ['artist', 'album'])\n",
    "cbe.fit(train, y)\n",
    "train = cbe.transform(train)"
   ]
  },
  {
   "cell_type": "markdown",
   "metadata": {},
   "source": [
    "### Feature Scaling"
   ]
  },
  {
   "cell_type": "code",
   "execution_count": 8,
   "metadata": {
    "ExecuteTime": {
     "end_time": "2020-11-28T16:07:54.369670Z",
     "start_time": "2020-11-28T16:07:54.354042Z"
    }
   },
   "outputs": [],
   "source": [
    "scaler = MinMaxScaler().fit(train)\n",
    "train = scaler.transform(train)"
   ]
  },
  {
   "cell_type": "markdown",
   "metadata": {},
   "source": [
    "### Model"
   ]
  },
  {
   "cell_type": "code",
   "execution_count": 9,
   "metadata": {
    "ExecuteTime": {
     "end_time": "2020-11-28T16:07:54.400917Z",
     "start_time": "2020-11-28T16:07:54.369670Z"
    }
   },
   "outputs": [],
   "source": [
    "rf_model = pickle.load(open('../saved_models/random_forest_grid_model.pkl', 'rb'))"
   ]
  },
  {
   "cell_type": "code",
   "execution_count": 10,
   "metadata": {
    "ExecuteTime": {
     "end_time": "2020-11-28T16:07:54.416545Z",
     "start_time": "2020-11-28T16:07:54.400917Z"
    }
   },
   "outputs": [],
   "source": [
    "new_model = RandomForestClassifier(criterion = rf_model.best_params_['criterion'],\n",
    "                                  min_impurity_decrease = rf_model.best_params_['min_impurity_decrease'],\n",
    "                                  min_samples_leaf = rf_model.best_params_['min_samples_leaf'],\n",
    "                                  min_samples_split = rf_model.best_params_['min_samples_split'],\n",
    "                                  n_estimators = rf_model.best_params_['n_estimators'],\n",
    "                                  )"
   ]
  },
  {
   "cell_type": "markdown",
   "metadata": {},
   "source": [
    "### Recursive Feature Elimination"
   ]
  },
  {
   "cell_type": "code",
   "execution_count": 11,
   "metadata": {
    "ExecuteTime": {
     "end_time": "2020-11-28T16:07:54.438702Z",
     "start_time": "2020-11-28T16:07:54.416545Z"
    }
   },
   "outputs": [],
   "source": [
    "from sklearn.feature_selection import RFE"
   ]
  },
  {
   "cell_type": "code",
   "execution_count": 12,
   "metadata": {
    "ExecuteTime": {
     "end_time": "2020-11-28T16:07:55.973620Z",
     "start_time": "2020-11-28T16:07:54.438702Z"
    }
   },
   "outputs": [
    {
     "name": "stdout",
     "output_type": "stream",
     "text": [
      "Fitting estimator with 16 features.\n",
      "Fitting estimator with 15 features.\n",
      "Fitting estimator with 14 features.\n",
      "Fitting estimator with 13 features.\n",
      "Fitting estimator with 12 features.\n",
      "Fitting estimator with 11 features.\n",
      "Fitting estimator with 10 features.\n",
      "Fitting estimator with 9 features.\n",
      "Model Accuracy:  0.83\n"
     ]
    }
   ],
   "source": [
    "rfe = RFE(new_model, step = 1, verbose = 2)\n",
    "x_red = rfe.fit_transform(train, y)\n",
    "new_model.fit(x_red, y)\n",
    "print(\"Model Accuracy: \", round(new_model.score(x_red, y), 2))"
   ]
  },
  {
   "cell_type": "code",
   "execution_count": 13,
   "metadata": {
    "ExecuteTime": {
     "end_time": "2020-11-28T16:07:55.997292Z",
     "start_time": "2020-11-28T16:07:55.973620Z"
    }
   },
   "outputs": [],
   "source": [
    "columns = df.drop(['track_name', 'track_id'], axis = 1).columns"
   ]
  },
  {
   "cell_type": "code",
   "execution_count": 14,
   "metadata": {
    "ExecuteTime": {
     "end_time": "2020-11-28T16:07:56.012651Z",
     "start_time": "2020-11-28T16:07:55.997292Z"
    },
    "scrolled": true
   },
   "outputs": [],
   "source": [
    "columns = columns[rfe.get_support()]"
   ]
  },
  {
   "cell_type": "code",
   "execution_count": 15,
   "metadata": {
    "ExecuteTime": {
     "end_time": "2020-11-28T16:07:56.042314Z",
     "start_time": "2020-11-28T16:07:56.012651Z"
    }
   },
   "outputs": [],
   "source": [
    "pickle.dump(new_model, open(\"../saved_models/final_rf.pkl\", 'wb'))"
   ]
  },
  {
   "cell_type": "code",
   "execution_count": 16,
   "metadata": {
    "ExecuteTime": {
     "end_time": "2020-11-28T16:07:56.120476Z",
     "start_time": "2020-11-28T16:07:56.042314Z"
    }
   },
   "outputs": [],
   "source": [
    "feature_importances = {columns[i]:rf_model.best_estimator_.feature_importances_[i]*100 for i in range(len(columns))}\n",
    "feature_importances = pd.Series(feature_importances).sort_values(ascending = False)"
   ]
  },
  {
   "cell_type": "code",
   "execution_count": 22,
   "metadata": {
    "ExecuteTime": {
     "end_time": "2020-11-28T16:08:00.956847Z",
     "start_time": "2020-11-28T16:08:00.718194Z"
    }
   },
   "outputs": [
    {
     "data": {
      "image/png": "[encoded data removed]",
      "text/plain": [
       "<Figure size 720x576 with 1 Axes>"
      ]
     },
     "metadata": {},
     "output_type": "display_data"
    }
   ],
   "source": [
    "probs = new_model.predict_proba(x_red)\n",
    "preds = probs[:,1]\n",
    "fpr, tpr, threshold = roc_curve(y, preds)\n",
    "roc_auc = auc(fpr, tpr)\n",
    "\n",
    "plt.figure(figsize = (10, 8))\n",
    "plt.plot(fpr, tpr, label='RandomForestClassifier (area = %0.2f)' % roc_auc)\n",
    "plt.plot([0, 1], [0, 1],'r--')\n",
    "plt.xlabel('False Positive Rate')\n",
    "plt.ylabel('True Positive Rate')\n",
    "plt.title('Receiver operating characteristic')\n",
    "plt.legend(loc=\"lower right\")\n",
    "style.use(\"ggplot\")\n",
    "plt.savefig('14.png')\n",
    "plt.show()"
   ]
  },
  {
   "cell_type": "code",
   "execution_count": 18,
   "metadata": {
    "ExecuteTime": {
     "end_time": "2020-11-28T16:07:56.606513Z",
     "start_time": "2020-11-28T16:07:56.390229Z"
    }
   },
   "outputs": [
    {
     "data": {
      "image/png": "[encoded data removed]",
      "text/plain": [
       "<Figure size 720x720 with 1 Axes>"
      ]
     },
     "metadata": {},
     "output_type": "display_data"
    }
   ],
   "source": [
    "plt.figure(figsize = (10, 10))\n",
    "sns.barplot(y = feature_importances.index, x = feature_importances.values, orient = 'h', )\n",
    "style.use(\"ggplot\")\n",
    "plt.savefig('13.png')\n",
    "plt.show()"
   ]
  },
  {
   "cell_type": "markdown",
   "metadata": {},
   "source": [
    "### Model perf numbers"
   ]
  },
  {
   "cell_type": "code",
   "execution_count": 19,
   "metadata": {
    "ExecuteTime": {
     "end_time": "2020-11-28T16:07:56.644742Z",
     "start_time": "2020-11-28T16:07:56.606513Z"
    }
   },
   "outputs": [],
   "source": [
    "y_score = new_model.predict(x_red)"
   ]
  },
  {
   "cell_type": "code",
   "execution_count": 20,
   "metadata": {
    "ExecuteTime": {
     "end_time": "2020-11-28T16:07:56.660068Z",
     "start_time": "2020-11-28T16:07:56.644742Z"
    }
   },
   "outputs": [
    {
     "name": "stdout",
     "output_type": "stream",
     "text": [
      "AUC_ROC:  0.8419762641898865\n"
     ]
    }
   ],
   "source": [
    "print(\"AUC_ROC: \", metrics.roc_auc_score(y, y_score))"
   ]
  },
  {
   "cell_type": "code",
   "execution_count": 21,
   "metadata": {
    "ExecuteTime": {
     "end_time": "2020-11-28T16:07:56.675725Z",
     "start_time": "2020-11-28T16:07:56.660068Z"
    }
   },
   "outputs": [
    {
     "name": "stdout",
     "output_type": "stream",
     "text": [
      "              precision    recall  f1-score   support\n",
      "\n",
      "           0       0.76      0.89      0.82       152\n",
      "           1       0.91      0.79      0.85       204\n",
      "\n",
      "    accuracy                           0.83       356\n",
      "   macro avg       0.83      0.84      0.83       356\n",
      "weighted avg       0.85      0.83      0.84       356\n",
      "\n"
     ]
    }
   ],
   "source": [
    "print(metrics.classification_report(y, y_score))"
   ]
  }
 ],
 "metadata": {
  "kernelspec": {
   "display_name": "Python 3",
   "language": "python",
   "name": "python3"
  },
  "language_info": {
   "codemirror_mode": {
    "name": "ipython",
    "version": 3
   },
   "file_extension": ".py",
   "mimetype": "text/x-python",
   "name": "python",
   "nbconvert_exporter": "python",
   "pygments_lexer": "ipython3",
   "version": "3.7.6"
  },
  "toc": {
   "base_numbering": 1,
   "nav_menu": {},
   "number_sections": false,
   "sideBar": true,
   "skip_h1_title": false,
   "title_cell": "Table of Contents",
   "title_sidebar": "Contents",
   "toc_cell": true,
   "toc_position": {
    "height": "calc(100% - 180px)",
    "left": "10px",
    "top": "150px",
    "width": "238px"
   },
   "toc_section_display": true,
   "toc_window_display": true
  }
 },
 "nbformat": 4,
 "nbformat_minor": 4
}
